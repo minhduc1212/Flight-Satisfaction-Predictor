{
 "cells": [
  {
   "cell_type": "markdown",
   "id": "f3e1f6d4",
   "metadata": {},
   "source": [
    "DATA PREPROCESSING"
   ]
  },
  {
   "cell_type": "code",
   "execution_count": null,
   "id": "d51a0937",
   "metadata": {},
   "outputs": [],
   "source": [
    "import pandas as pd\n",
    "\n",
    "df = pd.read_csv('Invistico_Airline.csv')\n",
    "\n",
    "df = df.dropna()\n",
    "\n",
    "df['satisfaction'] = df['satisfaction'].map({'dissatisfied': 0, 'satisfied': 1})\n",
    "df['Gender'] = df['Gender'].map({'Male': 0, 'Female': 1})\n",
    "df['Customer Type'] = df['Customer Type'].map({'disloyal Customer': 0, 'Loyal Customer': 1})\n",
    "df['Type of Travel'] = df['Type of Travel'].map({'Business travel': 0, 'Personal Travel': 1})\n",
    "df['Class'] = df['Class'].map({'Eco': 0, 'Eco Plus': 1, 'Business': 2})\n",
    "df['Arrival Delay in Minutes'] = df['Arrival Delay in Minutes'].astype('int')\n",
    "\n",
    "print(df.head())"
   ]
  },
  {
   "cell_type": "markdown",
   "id": "23628e1a",
   "metadata": {},
   "source": [
    "SPLIT DATA"
   ]
  },
  {
   "cell_type": "code",
   "execution_count": 12,
   "id": "50be7162",
   "metadata": {},
   "outputs": [],
   "source": [
    "from sklearn.model_selection import train_test_split\n",
    "\n",
    "target = 'satisfaction'\n",
    "X = df.drop(target, axis=1)\n",
    "y = df[target]\n",
    "\n",
    "X_train, X_temp, y_train, y_temp = train_test_split(X, y, test_size=0.3, random_state=42)\n",
    "X_val, X_test, y_val, y_test = train_test_split(X_temp, y_temp, test_size=0.5, random_state=42)"
   ]
  },
  {
   "cell_type": "markdown",
   "id": "b4126b8f",
   "metadata": {},
   "source": [
    "TRAIN MODEL"
   ]
  },
  {
   "cell_type": "code",
   "execution_count": 13,
   "id": "fabc31bd",
   "metadata": {},
   "outputs": [
    {
     "name": "stdout",
     "output_type": "stream",
     "text": [
      "Validation Set Classification Report:\n",
      "              precision    recall  f1-score   support\n",
      "\n",
      "           0       0.94      0.96      0.95      8840\n",
      "           1       0.97      0.95      0.96     10583\n",
      "\n",
      "    accuracy                           0.96     19423\n",
      "   macro avg       0.95      0.96      0.96     19423\n",
      "weighted avg       0.96      0.96      0.96     19423\n",
      "\n",
      "Test Set Classification Report:\n",
      "              precision    recall  f1-score   support\n",
      "\n",
      "           0       0.95      0.96      0.95      8799\n",
      "           1       0.97      0.96      0.96     10625\n",
      "\n",
      "    accuracy                           0.96     19424\n",
      "   macro avg       0.96      0.96      0.96     19424\n",
      "weighted avg       0.96      0.96      0.96     19424\n",
      "\n"
     ]
    }
   ],
   "source": [
    "from sklearn.ensemble import RandomForestClassifier\n",
    "from sklearn.metrics import classification_report, confusion_matrix\n",
    "\n",
    "model = RandomForestClassifier(n_estimators=100, random_state=42)\n",
    "model.fit(X_train, y_train)\n",
    "\n",
    "y_val_pred = model.predict(X_val)\n",
    "print(\"Validation Set Classification Report:\")\n",
    "print(classification_report(y_val, y_val_pred))\n",
    "\n",
    "y_test_pred = model.predict(X_test)\n",
    "print(\"Test Set Classification Report:\")\n",
    "print(classification_report(y_test, y_test_pred))"
   ]
  },
  {
   "cell_type": "code",
   "execution_count": 16,
   "id": "22280476",
   "metadata": {},
   "outputs": [],
   "source": [
    "import pickle\n",
    "with open('model.pkl', 'wb') as f:\n",
    "    pickle.dump(model, f)"
   ]
  },
  {
   "cell_type": "markdown",
   "id": "7da6b9fc",
   "metadata": {},
   "source": [
    "CROSS VALIDATION"
   ]
  },
  {
   "cell_type": "code",
   "execution_count": 14,
   "id": "f4a365a1",
   "metadata": {},
   "outputs": [
    {
     "name": "stdout",
     "output_type": "stream",
     "text": [
      "Cross-validated accuracy scores: [0.95415931 0.95233892 0.95382833 0.9559797  0.95465578]\n",
      "Average accuracy: 0.9541924095322154\n"
     ]
    }
   ],
   "source": [
    "from sklearn.model_selection import cross_val_score\n",
    "\n",
    "scores = cross_val_score(model, X_train, y_train, cv=5, scoring='accuracy')\n",
    "print(\"Cross-validated accuracy scores:\", scores)\n",
    "print(\"Average accuracy:\", scores.mean())"
   ]
  },
  {
   "cell_type": "markdown",
   "id": "1cba8e9d",
   "metadata": {},
   "source": [
    "TEST"
   ]
  },
  {
   "cell_type": "code",
   "execution_count": 15,
   "id": "da96c6a8",
   "metadata": {},
   "outputs": [
    {
     "name": "stdout",
     "output_type": "stream",
     "text": [
      "Predicted satisfaction: Satisfied\n"
     ]
    }
   ],
   "source": [
    "# Sample input = X là vector gồm input như liệt kê bên dưới\n",
    "# Output là y mang giá trị 0 hoặc 1 (0 là không hài lòng, 1 là hài lòng)\n",
    "sample = pd.DataFrame([{\n",
    "    'Gender' : 0,                               # 0 hoặc 1\n",
    "    'Customer Type' : 0,                        # 0 hoặc 1\n",
    "    'Age' : 35,\n",
    "    'Type of Travel' : 0,\n",
    "    'Class' : 0,\n",
    "    'Flight Distance' : 1500,\n",
    "    'Seat comfort' : 0,\n",
    "    'Departure/Arrival time convenient' : 3,\n",
    "    'Food and drink' : 1,\n",
    "    'Gate location' : 2,\n",
    "    'Inflight wifi service' : 4,\n",
    "    'Inflight entertainment' : 3,\n",
    "    'Online support' : 2,\n",
    "    'Ease of Online booking' : 4,\n",
    "    'On-board service' : 3,\n",
    "    'Leg room service' : 2,\n",
    "    'Baggage handling' : 3,\n",
    "    'Checkin service' : 4,\n",
    "    'Cleanliness' : 3,\n",
    "    'Online boarding' : 4,\n",
    "    'Departure Delay in Minutes' : 0,\n",
    "    'Arrival Delay in Minutes' : 0,             \n",
    "}])\n",
    "\n",
    "# One-hot encode the sample\n",
    "sample_encoded = pd.get_dummies(sample, columns=['Gender', 'Customer Type', 'Type of Travel', 'Class'], drop_first=True)\n",
    "\n",
    "# (fill missing columns with 0)\n",
    "for col in model.feature_names_in_:\n",
    "    if col not in sample_encoded.columns:\n",
    "        sample_encoded[col] = 0\n",
    "\n",
    "# Ensure correct column order\n",
    "sample_encoded = sample_encoded[model.feature_names_in_]\n",
    "\n",
    "# Predict\n",
    "prediction = model.predict(sample_encoded)\n",
    "print(\"Predicted satisfaction:\", \"Satisfied\" if prediction[0] == 1 else \"Not Satisfied\")\n"
   ]
  },
  {
   "cell_type": "code",
   "execution_count": null,
   "id": "4ebf304d",
   "metadata": {},
   "outputs": [],
   "source": [
    "# Làm home.html để người dùng nhập dữ liệu và dự đoán\n",
    "# gọi file model.pkl để dự đoán\n",
    "# Cách gọi:\n",
    "# Load model\n",
    "import os \n",
    "current_dir = os.getcwd()\n",
    "pickle_path = os.path.join(current_dir, 'model.pkl')\n",
    "with open(pickle_path, 'rb') as f:\n",
    "    model = pickle.load(f)\n",
    "    \n",
    "    \n",
    "# Mapping input data\n",
    "df['Gender'] = df['Gender'].map({'Male': 0, 'Female': 1})\n",
    "df['Customer Type'] = df['Customer Type'].map({'disloyal Customer': 0, 'Loyal Customer': 1})\n",
    "df['Type of Travel'] = df['Type of Travel'].map({'Business travel': 0, 'Personal Travel': 1})\n",
    "df['Class'] = df['Class'].map({'Eco': 0, 'Eco Plus': 1, 'Business': 2})\n",
    "\n",
    "# Đặt một function để dự đoán dữ liệu qua việc gọi model\n",
    "def predict(X):\n",
    "    result = model.predict(X)\n",
    "    return result\n",
    "\n",
    "y = model.predict(X)\n",
    "\n",
    "# Mapping output data\n",
    "df['satisfaction'] = df['satisfaction'].map({0: 'disatisfied', 1: 'satisfied'})\n",
    "# Biểu diễn xem có hài lòng hay không\n"
   ]
  }
 ],
 "metadata": {
  "kernelspec": {
   "display_name": "udemy2",
   "language": "python",
   "name": "python3"
  },
  "language_info": {
   "codemirror_mode": {
    "name": "ipython",
    "version": 3
   },
   "file_extension": ".py",
   "mimetype": "text/x-python",
   "name": "python",
   "nbconvert_exporter": "python",
   "pygments_lexer": "ipython3",
   "version": "3.12.9"
  }
 },
 "nbformat": 4,
 "nbformat_minor": 5
}
